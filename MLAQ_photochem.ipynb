{
  "nbformat": 4,
  "nbformat_minor": 0,
  "metadata": {
    "colab": {
      "name": "MLAQ_photochem.ipynb",
      "provenance": [],
      "collapsed_sections": [],
      "include_colab_link": true
    },
    "kernelspec": {
      "name": "python3",
      "display_name": "Python 3"
    }
  },
  "cells": [
    {
      "cell_type": "markdown",
      "metadata": {
        "id": "view-in-github",
        "colab_type": "text"
      },
      "source": [
        "<a href=\"https://colab.research.google.com/github/obin1/MLAQ/blob/master/MLAQ_photochem.ipynb\" target=\"_parent\"><img src=\"https://colab.research.google.com/assets/colab-badge.svg\" alt=\"Open In Colab\"/></a>"
      ]
    },
    {
      "cell_type": "code",
      "metadata": {
        "id": "Nqjmfvq6ac50",
        "colab_type": "code",
        "colab": {}
      },
      "source": [
        "### Read in input data\n",
        "data = pd.read_table('https://raw.githubusercontent.com/obin1/FormO3NOx/master/C_and_J.txt',sep=',')\n",
        "data = data[data['Time [min]'] != 1440] # delete last row for each day\n",
        "JC = data.iloc[:,2:14] #extract just J and C\n",
        "S = pd.read_table('https://raw.githubusercontent.com/obin1/FormO3NOx/master/S.txt',sep=',')\n",
        "S = S.iloc[:,2:13] # extract reaction rates\n",
        "A = np.array([[0,  1, -1,  0,  0,  0,  0,  0,  0,  0],  # O3\n",
        "     [1,  0, -1,  0,  0,  0, -1,  0,  0,  0],  # NO\n",
        "     [-1,  0,  1,  0,  0,  0,  1, -1,  0,  0],  # NO2\n",
        "     [0,  0,  0, -1, -1, -1,  0,  0,  0,  0],  # HCHO\n",
        "     [0,  0,  0,  2,  0,  1, -1,  0,  0,  1], # HO2.\n",
        "     [0,  0,  0,  0,  0,  0,  0,  0, -1, -1]])  # HO2H\n",
        "#              0  0  0  0  0 -1  1 -1  2 -1;  # OH.\n",
        "#              1 -1  0  0  0  0  0  0  0  0;  # O\n",
        "#              0  0  0  0  0  0  0  1  0  0;  # HNO3\n",
        "#              0  0  0  1  1  1  0  0  0  0;  # CO\n",
        "#              0  0  0  0  1  0  0  0  0  0]; # H2"
      ],
      "execution_count": null,
      "outputs": []
    },
    {
      "cell_type": "code",
      "metadata": {
        "id": "fKZDSpCCbJbr",
        "colab_type": "code",
        "colab": {}
      },
      "source": [
        "import pandas as pd \n",
        "import matplotlib.pyplot as plt\n",
        "import numpy as np\n",
        "from sklearn.model_selection import train_test_split\n",
        "import torch\n",
        "from torch import nn\n",
        "import torch.nn.functional as F"
      ],
      "execution_count": null,
      "outputs": []
    },
    {
      "cell_type": "code",
      "metadata": {
        "id": "dX8ZTpviesqo",
        "colab_type": "code",
        "colab": {}
      },
      "source": [
        "### Test/train split\n",
        "JC_train, JC_test, S_train, S_test = train_test_split(JC, S, test_size=0.1)\n",
        "JC_train = JC_train.to_numpy()\n",
        "JC_test = JC_test.to_numpy()\n",
        "S_train = S_train.to_numpy()\n",
        "S_test = S_test.to_numpy()"
      ],
      "execution_count": null,
      "outputs": []
    },
    {
      "cell_type": "code",
      "metadata": {
        "id": "-QNKTGo5OEYt",
        "colab_type": "code",
        "colab": {}
      },
      "source": [
        "### Define Neural Net\n",
        "class PhotoNN(nn.Module):\n",
        "    def __init__(self, input_dim, hidden_dim):\n",
        "        \"\"\"\n",
        "        Two linear layers\n",
        "        \"\"\"\n",
        "        super(PhotoNN, self).__init__()\n",
        "        self.linear1 = torch.nn.Linear(input_dim, hidden_dim)\n",
        "        self.linear2 = torch.nn.Linear(hidden_dim, 1)\n",
        "\n",
        "    def forward(self, x):\n",
        "        \"\"\"\n",
        "        Foward pass with ReLU activation\n",
        "        \"\"\"\n",
        "        # TODO: Implement this!\n",
        "        h_relu = F.relu(self.linear1(x))\n",
        "        y_pred = self.linear2(h_relu)\n",
        "        return torch.squeeze(y_pred)\n"
      ],
      "execution_count": null,
      "outputs": []
    },
    {
      "cell_type": "code",
      "metadata": {
        "id": "zrtoSdJ9NWkE",
        "colab_type": "code",
        "colab": {}
      },
      "source": [
        "def train(rxn):\n",
        "    # Construct network according to # of species\n",
        "    net = PhotoNN(len(JC_train), len(JC_train) + 6)  \n",
        "    print(net)\n",
        "    criterion = nn.MSELoss() # Use MSE Loss\n",
        "    optimizer = torch.optim.SGD(net.parameters(), lr=0.001, momentum=0.9) # Use SGD\n",
        "    # load data\n",
        "    #species = [0] # Get J\n",
        "    #for s in range(len(A)): # Get relevant species\n",
        "    #  if A[s,rxn] != 0:\n",
        "    #    species.append(s+1)\n",
        "    #species = [x + 1 for x in np.nonzero(A[:,rxn])] # Get relevant species\n",
        "    train_data = JC_train\n",
        "    train_labels = S_train[:,rxn]\n",
        "    dev_data = JC_test\n",
        "    dev_labels = S_test[:,rxn]\n",
        "    # Training loop\n",
        "    train_losses = []\n",
        "    dev_losses = []\n",
        "    running_loss = 0\n",
        "    for i in range(len(train_data)):\n",
        "        # run the model and backprop for train steps\n",
        "        x = torch.from_numpy(train_data[i].astype(np.float32)).float()\n",
        "        y = torch.tensor(train_labels[i],dtype=torch.float32)\n",
        "        print(x)\n",
        "        # Forward pass: Get preds\n",
        "        y_pred = net(x)\n",
        "        \n",
        "        # Compute loss\n",
        "        loss = criterion(y_pred, y)\n",
        "        running_loss += (y_pred.tolist()-train_labels[i])**2\n",
        "        # Zero gradients, perform a backward pass, and update the weights.\n",
        "        optimizer.zero_grad()\n",
        "        loss.backward()\n",
        "        optimizer.step()\n",
        "\n",
        "        # every 100 steps, log metrics\n",
        "        if i % 1000 == 0:\n",
        "          ypred = net(torch.from_numpy(dev_data.astype(np.float32)).float())\n",
        "          devloss = sum((ypred.tolist()-dev_labels)**2)/len(ypred.tolist())\n",
        "          train_losses.append(running_loss/i)\n",
        "          dev_losses.append(devloss)\n",
        "          #print('On step' + str(i) +': Train MSE '+ str(running_loss/i) +' | Dev MSE ' + str(devloss))\n",
        "\n",
        "    plt.figure()\n",
        "    plt.plot(train_losses)\n",
        "    plt.plot(dev_losses)\n",
        "    plt.title('R ' + str(rxn+1))\n",
        "    plt.legend(['Train Losses', 'Dev Losses'])\n",
        "    return net\n",
        "    # save model\n",
        "    #print('Done training. Saving model at ' + save)\n",
        "    #torch.save(model, 'C:\\Users\\islam\\OneDrive - Johns Hopkins\\Wexler\\Atmos\\MLAQ\\Pytorch\\R' + str(rxn+1))"
      ],
      "execution_count": null,
      "outputs": []
    },
    {
      "cell_type": "code",
      "metadata": {
        "id": "QuzkJpZDUzJQ",
        "colab_type": "code",
        "colab": {}
      },
      "source": [
        "net = []\n",
        "for rxn in range(len(A.T)): # Train a net for each reaction\n",
        "  net.append(train(rxn))\n"
      ],
      "execution_count": null,
      "outputs": []
    },
    {
      "cell_type": "code",
      "metadata": {
        "id": "B7z5pMPWFFnM",
        "colab_type": "code",
        "colab": {}
      },
      "source": [
        "# Gather test statistics\n",
        "abs_err = []\n",
        "rel_err = []\n",
        "# for rxn in range(len(A.T)): \n",
        "#   species = [0] # Get J\n",
        "#   for s in range(len(A)): # Get relevant species\n",
        "#     if A[s,rxn] != 0:\n",
        "#       species.append(s+1)\n",
        "  dev_data = JC_test\n",
        "  dev_labels = S_test[:,rxn]\n",
        "  ypred = net[rxn](torch.from_numpy(dev_data.astype(np.float32)).float())\n",
        "  abs_err.append(sum(abs(ypred.tolist()-dev_labels))/len(ypred.tolist()))\n",
        "  rel_err.append(abs_err[rxn]/np.mean(dev_labels))\n",
        "plt.figure()\n",
        "plt.plot(range(1,11),abs_err)\n",
        "plt.xlabel(\"reaction #\")\n",
        "plt.ylabel(\"Mean abs error\")\n",
        "plt.figure()\n",
        "plt.plot(range(1,11),rel_err)\n",
        "plt.xlabel(\"reaction #\")\n",
        "plt.ylabel(\"Mean rel. error (%)\")\n"
      ],
      "execution_count": null,
      "outputs": []
    }
  ]
}