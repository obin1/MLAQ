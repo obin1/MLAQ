{
 "cells": [
  {
   "cell_type": "markdown",
   "metadata": {},
   "source": [
    "# Fixing Negative Concentrations "
   ]
  },
  {
   "cell_type": "code",
   "execution_count": 194,
   "metadata": {},
   "outputs": [],
   "source": [
    "import numpy as np\n",
    "import copy\n",
    "import pprint"
   ]
  },
  {
   "cell_type": "code",
   "execution_count": 212,
   "metadata": {},
   "outputs": [],
   "source": [
    "A      = np.array([ [ 0, 1,-1, 0, 0, 0, 0, 0, 0, 0],\\\n",
    "                  [ 1, 0,-1, 0, 0, 0,-1, 0, 0, 0],\\\n",
    "                  [-1, 0, 1, 0, 0, 0, 1,-1, 0, 0],\\\n",
    "                  [ 0, 0, 0,-1,-1,-1, 0, 0, 0, 0],\\\n",
    "                  [ 0, 0, 0, 2, 0, 1,-1, 0, 0, 1],\\\n",
    "                  [ 0, 0, 0, 0, 0, 0, 0, 0,-1,-1]])\n"
   ]
  },
  {
   "cell_type": "markdown",
   "metadata": {},
   "source": [
    "### Step 1: Machine learning step,  let `CO` be the concentration input and `S` be the flux output"
   ]
  },
  {
   "cell_type": "code",
   "execution_count": 233,
   "metadata": {},
   "outputs": [],
   "source": [
    "C0 = np.array([0.0445,    0.0001,   0.0007,    0.0002,   0.0001,    0.0059]);\n",
    "S  = np.array([0.00070,    0.00070,   0.00091,  0, 0, 0, 0.00011, 0, 0, 0 ]);"
   ]
  },
  {
   "cell_type": "markdown",
   "metadata": {},
   "source": [
    "### Step 2: Finding negative concentrations \n",
    "Multiplication by stoichiometric matrix to get change in concentration, ∆C = AS.\n",
    "Then addition of `delC` to `C0` to get `C1`, the concentration of the next timestep.  If there are any negative values for `C1`, find the location of the most negative value."
   ]
  },
  {
   "cell_type": "code",
   "execution_count": 237,
   "metadata": {},
   "outputs": [
    {
     "name": "stdout",
     "output_type": "stream",
     "text": [
      "[ 4.429e-02 -2.200e-04  1.020e-03  2.000e-04 -1.000e-05  5.900e-03]\n",
      "The concentration at index 1 is negative!\n"
     ]
    }
   ],
   "source": [
    "delC = A@S\n",
    "C1 = C0 + delC;\n",
    "if any(C1 < 0):\n",
    "    print(C1)\n",
    "    loc = C1.argmin()\n",
    "    print(f\"The concentration at index {location} is negative!\")"
   ]
  },
  {
   "cell_type": "markdown",
   "metadata": {},
   "source": [
    "### Step 3: Shrinking the fluxes that led to negative concentrations\n",
    "\n",
    "Though the negative element of `C1` may have been contributed to by multiple elements of `S`, we only want to shrink the elements that caused a negative concentration -- in other words, the location of all the negative column elements of `A`, at the row corresponding to the negative element of `C1`.  We want to adjust these \"depleting\" elements of `S` while leaving the other elements alone. "
   ]
  },
  {
   "cell_type": "code",
   "execution_count": 238,
   "metadata": {},
   "outputs": [
    {
     "name": "stdout",
     "output_type": "stream",
     "text": [
      "Nonphysical ML prediction S:\n",
      "[0.0007  0.0007  0.00091 0.      0.      0.      0.00011 0.      0.\n",
      " 0.     ]\n",
      "Adjusted S vector\n",
      "[7.0e-04 7.0e-04 7.1e-04 0.0e+00 0.0e+00 0.0e+00 9.0e-05 0.0e+00 0.0e+00\n",
      " 0.0e+00]\n"
     ]
    }
   ],
   "source": [
    "S_corrected = copy.deepcopy(S);\n",
    "C_corrected = copy.deepcopy(C1)\n",
    "\n",
    "N = S[np.where(A[loc,:]<0)[0]]\n",
    "M = S[np.where(A[loc,:]>0)[0]]\n",
    "\n",
    "for n in np.where(A[loc,:]<0)[0]:\n",
    "    S_corrected[n] = (1 - (delC[loc]+C0[loc])/sum(S[np.where(A[loc,:]<0)[0]])/ A[loc,n] ) * S_corrected[n]\n",
    "\n",
    "print(\"Nonphysical ML prediction S:\")\n",
    "print(np.round(S,5))\n",
    "print(\"Adjusted S vector\")\n",
    "print(np.round(S_corrected,5))\n"
   ]
  },
  {
   "cell_type": "markdown",
   "metadata": {},
   "source": [
    "### Step 4: Calculate the adjusted C\n",
    "\n",
    "Use `S_corrected`  in ∆C = AS, and then add that to `C0`."
   ]
  },
  {
   "cell_type": "code",
   "execution_count": 240,
   "metadata": {},
   "outputs": [
    {
     "name": "stdout",
     "output_type": "stream",
     "text": [
      "Initial concentration C0:\n",
      "[0.0445 0.0001 0.0007 0.0002 0.0001 0.0059]\n",
      "Nonphysical ML prediction C1:\n",
      "[ 4.429e-02 -2.200e-04  1.020e-03  2.000e-04 -1.000e-05  5.900e-03]\n",
      "Adjusted concentration:\n",
      "[4.449e-02 0.000e+00 8.000e-04 2.000e-04 1.000e-05 5.900e-03]\n"
     ]
    }
   ],
   "source": [
    "delC_corrected = A@S_corrected\n",
    "C_corrected = C0 + A@S_corrected\n",
    "\n",
    "print(\"Initial concentration C0:\")\n",
    "print(np.round(C0,5))\n",
    "print(\"Nonphysical ML prediction C1:\")\n",
    "print(np.round(C1,5))\n",
    "print(\"Adjusted concentration:\")\n",
    "print(np.round(C_corrected,5))"
   ]
  },
  {
   "cell_type": "code",
   "execution_count": null,
   "metadata": {},
   "outputs": [],
   "source": []
  }
 ],
 "metadata": {
  "kernelspec": {
   "display_name": "Python 3",
   "language": "python",
   "name": "python3"
  },
  "language_info": {
   "codemirror_mode": {
    "name": "ipython",
    "version": 3
   },
   "file_extension": ".py",
   "mimetype": "text/x-python",
   "name": "python",
   "nbconvert_exporter": "python",
   "pygments_lexer": "ipython3",
   "version": "3.7.3"
  }
 },
 "nbformat": 4,
 "nbformat_minor": 2
}
